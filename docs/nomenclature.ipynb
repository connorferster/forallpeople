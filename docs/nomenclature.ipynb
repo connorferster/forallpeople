{
 "cells": [
  {
   "cell_type": "markdown",
   "id": "de4e2de3-06ca-4a33-be51-661ca378b2b1",
   "metadata": {},
   "source": [
    "# Nomenclature\n",
    "\n",
    "`forallpeople` uses specific words to describe aspects of the SI unit system and its own inner workings. The following are some terms and definitions that may aid in understanding.\n",
    "\n",
    "* __\"quantity\"__ and __\"physical quantity\"__: A scalar representation of a physical phenomenon that can have its magnitude and type described in the SI base units (e.g. mass, force, length, time, electric current, etc.) It consists of a number and a unit.\n",
    "\n",
    "* __\"unit\"__: A name and/or symbol given to a quantity that describes its dimensional components.\n",
    "\n",
    "* __\"Derived unit\"__: As defined by the BIPM: \"Derived units are defined as products of powers of the base units.\" Examples include newton, hertz, pascal, joule, watt, volt, etc. These can be found in the [SI brochure](https://www.bipm.org/en/publications/si-brochure) (pg. 137 in the 9th ed.). Note, that `forallpeople` does not define dimensionless units including the ones found in the SI brochure. These include the radian and the steradian. Similarly, the dimensionless angular \"degree\" is not defined in `forallpeople`. Please see [Background - No \"Dimensionless\" definitions](Background.ipynb#No-dimensionless-definitions) for more information.\n",
    "\n",
    "* __\"Defined unit\"__: A term used internally within `forallpeople` to describe a unit that is defined within a non-SI unit system but a unit system that is _defined_ by the SI unit system. The most well-known of these alternative defined unit systems is the US Customary system."
   ]
  },
  {
   "cell_type": "code",
   "execution_count": null,
   "id": "e18fc880-c736-47a8-b0b6-d6786cec8c00",
   "metadata": {},
   "outputs": [],
   "source": []
  }
 ],
 "metadata": {
  "kernelspec": {
   "display_name": "forallpeople",
   "language": "python",
   "name": "forallpeople"
  },
  "language_info": {
   "codemirror_mode": {
    "name": "ipython",
    "version": 3
   },
   "file_extension": ".py",
   "mimetype": "text/x-python",
   "name": "python",
   "nbconvert_exporter": "python",
   "pygments_lexer": "ipython3",
   "version": "3.7.10"
  }
 },
 "nbformat": 4,
 "nbformat_minor": 5
}
