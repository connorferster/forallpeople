{
 "cells": [
  {
   "cell_type": "markdown",
   "id": "6a76ab59-b8e7-41f4-a8e4-45eb0ac533c7",
   "metadata": {},
   "source": [
    "# Environments\n",
    "\n",
    "An environment within `forallpeople` is a singleton instance of the `forallpeople.environment.Environment` class. It is not intended to be interacted with directly but instead through the `forallpeople.environment` function."
   ]
  },
  {
   "cell_type": "markdown",
   "id": "bfffd501-ba24-4359-8eea-087e1c4d7649",
   "metadata": {},
   "source": [
    "## Loading Environments\n",
    "\n",
    "Enter the name of the environment you wish to load with the `environment()` function."
   ]
  },
  {
   "cell_type": "code",
   "execution_count": 1,
   "id": "922300e9-1d79-49aa-a7e2-b67b54c64ccc",
   "metadata": {},
   "outputs": [],
   "source": [
    "import forallpeople as si\n",
    "si.environment('default')"
   ]
  },
  {
   "cell_type": "markdown",
   "id": "d87a623a-166c-40ad-be08-df5a96cf5b14",
   "metadata": {},
   "source": [
    "### Bundled environments\n",
    "\n",
    "`forallpeople` comes with the following bundled environments:\n",
    "* `default`: Defines the SI derived units\n",
    "* `us_customary`: Defines the most common units within the US Customary units system\n",
    "* `structural`: Defines a series of units in both SI and US Customary units systems that are commonly used in the field of structural engineering (the field of practice of the library author)."
   ]
  },
  {
   "cell_type": "markdown",
   "id": "f6b94614-7bf7-4e6a-8c58-288da1c30965",
   "metadata": {},
   "source": [
    "## Environment files\n",
    "\n",
    "Unit environments are JSON files that describe three things:\n",
    "1. The names of unit variables that are to be added to the namespace when the environment is loaded\n",
    "2. The characteristics of the units that are to be recognized when the environment is loaded (i.e. dimensions, factor, symbol, and value)\n",
    "3. The global default precision to display for all `Physical` instances (i.e. number of decimal places)\n",
    "\n",
    "These JSON files are stored within the `environments` directory, a sub-directory within the `forallpeople` module.\n",
    "\n",
    "When loading an environment, you are passing the file name of the JSON file without the `.json` extension. e.g. `si.environment('default')` is loading the `default.json` file in the `environments` sub-directory.\n",
    "\n",
    "The location of your current `forallpeople` installation can generally be found by importing the module and then using the `.__file__` attribute of the imported module's variable name."
   ]
  },
  {
   "cell_type": "code",
   "execution_count": 4,
   "id": "e7c53a45-281b-47de-8e6c-43dcd75687b6",
   "metadata": {},
   "outputs": [
    {
     "data": {
      "text/plain": [
       "'C:\\\\Users\\\\cferster\\\\Notebooks\\\\package_development\\\\forallpeople\\\\forallpeople\\\\__init__.py'"
      ]
     },
     "execution_count": 4,
     "metadata": {},
     "output_type": "execute_result"
    }
   ],
   "source": [
    "import forallpeople as si\n",
    "si.__file__"
   ]
  },
  {
   "cell_type": "markdown",
   "id": "9c781ff8-5b00-4bb2-86b9-970f99f63ef0",
   "metadata": {},
   "source": [
    "### Anatomy of an environment file\n",
    "\n",
    "The following is an excerpted portion of the `default.json` file:\n",
    "\n",
    "```json\n"
   ]
  },
  {
   "cell_type": "code",
   "execution_count": null,
   "id": "ed7c5d3a-af0f-4b0f-8cf5-a76993586593",
   "metadata": {},
   "outputs": [],
   "source": []
  }
 ],
 "metadata": {
  "kernelspec": {
   "display_name": "forallpeople",
   "language": "python",
   "name": "forallpeople"
  },
  "language_info": {
   "codemirror_mode": {
    "name": "ipython",
    "version": 3
   },
   "file_extension": ".py",
   "mimetype": "text/x-python",
   "name": "python",
   "nbconvert_exporter": "python",
   "pygments_lexer": "ipython3",
   "version": "3.7.10"
  }
 },
 "nbformat": 4,
 "nbformat_minor": 5
}
